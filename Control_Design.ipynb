{
 "cells": [
  {
   "cell_type": "code",
   "execution_count": 1,
   "metadata": {},
   "outputs": [],
   "source": [
    "from control.matlab import * # For Matlab-like functions\n",
    "from matplotlib import pyplot as plt\n",
    "import numpy as np"
   ]
  },
  {
   "cell_type": "code",
   "execution_count": null,
   "metadata": {},
   "outputs": [],
   "source": [
    "# Non-linear equations of motion (Rotational):\n",
    "# (u2 + Iy*((r*cos(psi))/cos(theta) + (q*sin(psi))/cos(theta))*(q*cos(psi) - r*sin(psi)) - Iz*((r*cos(psi))/cos(theta) + (q*sin(psi))/cos(theta))*(q*cos(psi) - r*sin(psi)))/Ix\n",
    "# (u3 - Ix*((r*cos(psi))/cos(theta) + (q*sin(psi))/cos(theta))*(p + r*cos(psi)*tan(theta) + q*sin(psi)*tan(theta)) + Iz*((r*cos(psi))/cos(theta) + (q*sin(psi))/cos(theta))*(p + r*cos(psi)*tan(theta) + q*sin(psi)*tan(theta)))/Iy\n",
    "#                                                     (u4 + Ix*(q*cos(psi) - r*sin(psi))*(p + r*cos(psi)*tan(theta) + q*sin(psi)*tan(theta)) - Iy*(q*cos(psi) - r*sin(psi))*(p + r*cos(psi)*tan(theta) + q*sin(psi)*tan(theta)))/Iz\n",
    " "
   ]
  }
 ],
 "metadata": {
  "kernelspec": {
   "display_name": "Python 3.7.3 32-bit",
   "language": "python",
   "name": "python37332bitb458910e86e845d385b982bb53dbbda3"
  },
  "language_info": {
   "codemirror_mode": {
    "name": "ipython",
    "version": 3
   },
   "file_extension": ".py",
   "mimetype": "text/x-python",
   "name": "python",
   "nbconvert_exporter": "python",
   "pygments_lexer": "ipython3",
   "version": "3.7.3-final"
  }
 },
 "nbformat": 4,
 "nbformat_minor": 4
}